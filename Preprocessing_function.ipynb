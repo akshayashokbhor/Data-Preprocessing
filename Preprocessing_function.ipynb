{
 "cells": [
  {
   "cell_type": "code",
   "execution_count": 14,
   "metadata": {},
   "outputs": [],
   "source": [
    "import re\n",
    "import nltk"
   ]
  },
  {
   "cell_type": "markdown",
   "metadata": {},
   "source": [
    "1.Find/Get email from string/documents"
   ]
  },
  {
   "cell_type": "code",
   "execution_count": 3,
   "metadata": {},
   "outputs": [
    {
     "name": "stdout",
     "output_type": "stream",
     "text": [
      "['<mathew@mantis.co.uk>', '<figmo@netcom.com>.']\n"
     ]
    }
   ],
   "source": [
    "String='mathew <mathew@mantis.co.uk>\\nSubject: Alt.Atheism FAQ: At <figmo@netcom.com>. '\n",
    "\n",
    "result=re.findall('\\S+@\\S+', String)\n",
    "print(result)\n",
    "\n"
   ]
  },
  {
   "cell_type": "markdown",
   "metadata": {},
   "source": [
    "2. Delete all the tags like < > and data in between tags"
   ]
  },
  {
   "cell_type": "code",
   "execution_count": 4,
   "metadata": {},
   "outputs": [
    {
     "name": "stdout",
     "output_type": "stream",
     "text": [
      "at an arrange  at an given nalysis \n"
     ]
    }
   ],
   "source": [
    "String='at an arrange <mathewco.uk> at an given nalysis '\n",
    "\n",
    "p = re.compile(r'<.*?>')\n",
    "result=p.sub('', String)\n",
    "print(result)"
   ]
  },
  {
   "cell_type": "markdown",
   "metadata": {},
   "source": [
    "3. Remove the newlines(‘\\n’), tabs(‘\\t’), “-”, “\\”."
   ]
  },
  {
   "cell_type": "code",
   "execution_count": 5,
   "metadata": {},
   "outputs": [
    {
     "name": "stdout",
     "output_type": "stream",
     "text": [
      "England at an range of   at an given   analysis   ney york \n"
     ]
    }
   ],
   "source": [
    "String='England at an range of \\n at an given \\n analysis \\t ney-york '\n",
    "\n",
    "a1=String.replace(\"\\n\",\" \")\n",
    "a2=a1.replace(\"\\t\",\" \")\n",
    "a3=a2.replace(\"\\ \", \" \")\n",
    "result=a3.replace(\"-\",\" \")\n",
    "print(result)"
   ]
  },
  {
   "cell_type": "markdown",
   "metadata": {},
   "source": [
    "4. Remove word in string before character"
   ]
  },
  {
   "cell_type": "code",
   "execution_count": 9,
   "metadata": {},
   "outputs": [
    {
     "data": {
      "text/plain": [
       "'at   we got an chance to meet queen vicotria in neywork '"
      ]
     },
     "execution_count": 9,
     "metadata": {},
     "output_type": "execute_result"
    }
   ],
   "source": [
    "String='at England: we got an chance to meet queen vicotria in neywork '\n",
    "\n",
    "def word_char(String):\n",
    "    a= re.findall('\\S+:', String)\n",
    "    for i in range(len(a)):\n",
    "        word=a[i]\n",
    "        if word in String:\n",
    "            result=String.replace(word,\" \")\n",
    " \n",
    "    return result\n",
    "#print(result)\n",
    "word_char(String)"
   ]
  },
  {
   "cell_type": "markdown",
   "metadata": {},
   "source": [
    "5. Decontraction of words"
   ]
  },
  {
   "cell_type": "code",
   "execution_count": 11,
   "metadata": {},
   "outputs": [
    {
     "data": {
      "text/plain": [
       "'at England we got an chance to meet queen vicotria in neywork but she will not be availabe so we can not speak with her we  will decide to meet agaian'"
      ]
     },
     "execution_count": 11,
     "metadata": {},
     "output_type": "execute_result"
    }
   ],
   "source": [
    "String='at England we got an chance to meet queen vicotria in neywork but she won\\'t be availabe so we can\\'t speak with her we \\'ll decide to meet agaian'\n",
    "\n",
    "def decontracted(phrase):\n",
    " \n",
    "    phrase = re.sub(r\"won't\", \"will not\", phrase)\n",
    "    phrase = re.sub(r\"can\\'t\", \"can not\", phrase)\n",
    "    phrase = re.sub(r\"n\\'t\", \" not\", phrase)\n",
    "    phrase = re.sub(r\"\\'re\", \" are\", phrase)\n",
    "    phrase = re.sub(r\"\\'s\", \" is\", phrase)\n",
    "    phrase = re.sub(r\"\\'d\", \" would\", phrase)\n",
    "    phrase = re.sub(r\"\\'ll\", \" will\", phrase)\n",
    "    phrase = re.sub(r\"\\'t\", \" not\", phrase)\n",
    "    phrase = re.sub(r\"\\'ve\", \" have\", phrase)\n",
    "    phrase = re.sub(r\"\\'m\", \" am\", phrase)\n",
    "    return phrase\n",
    "decontracted(String)"
   ]
  },
  {
   "cell_type": "markdown",
   "metadata": {},
   "source": [
    "6. chunking on the text"
   ]
  },
  {
   "cell_type": "code",
   "execution_count": 15,
   "metadata": {},
   "outputs": [
    {
     "name": "stdout",
     "output_type": "stream",
     "text": [
      "ORGANIZATION BBC\n"
     ]
    }
   ],
   "source": [
    "String=\"A prison riot left six members of staff needing hospital treatment earlier this month, the BBC learns\"\n",
    "\n",
    "def GPE_PERSON(PRE_data):\n",
    "    GPE_lst=[]\n",
    "    person_lst=[]\n",
    "    for sent in nltk.sent_tokenize(PRE_data):\n",
    "        for chunk in nltk.ne_chunk(nltk.pos_tag(nltk.word_tokenize(sent))):\n",
    "            if hasattr(chunk, 'label'):\n",
    "                a=chunk.label()\n",
    "                b=' '.join(c[0] for c in chunk)\n",
    "                print(a,b)\n",
    "                if a==\"GPE\":\n",
    "                    GPE_lst.append(b)\n",
    "                elif a==\"PERSON\":\n",
    "                    person_lst.append(b)\n",
    "    return GPE_lst,person_lst\n",
    "result1,result2=GPE_PERSON(String)"
   ]
  },
  {
   "cell_type": "markdown",
   "metadata": {},
   "source": [
    "7. delete all the digits\n"
   ]
  },
  {
   "cell_type": "code",
   "execution_count": 17,
   "metadata": {},
   "outputs": [
    {
     "name": "stdout",
     "output_type": "stream",
     "text": [
      "A prison riot left 16 members of staff needing hospital on 24 dec 1 4 treatment earlier this month, report 22352515\n"
     ]
    }
   ],
   "source": [
    "\n",
    "String=\"A prison riot left 16 members of staff needing hospital on 24 dec 1994 treatment earlier this month, report 22352515\"\n",
    "\n",
    "def getNumbers(data): \n",
    "    num_lst = re.findall(r'[0–9]+', data)\n",
    "    for num in num_lst:\n",
    "        data=data.replace(num,\" \")\n",
    "    return data\n",
    "result=getNumbers(String)\n",
    "print(result)"
   ]
  },
  {
   "cell_type": "markdown",
   "metadata": {},
   "source": [
    "8. Replace unwanted character with space\n"
   ]
  },
  {
   "cell_type": "code",
   "execution_count": 18,
   "metadata": {},
   "outputs": [
    {
     "name": "stdout",
     "output_type": "stream",
     "text": [
      "A prison riot left   of   members of staff needing hospital on   treatment earlier this month  report BBC   \n"
     ]
    }
   ],
   "source": [
    "String=\"A prison riot left % of # members of staff needing hospital on @ treatment earlier this month, report BBC!!!\"\n",
    "\n",
    "def replace_all(data):\n",
    "    da=re.sub(r'[^\\w]', ' ', data)\n",
    "    return da\n",
    "result=replace_all(String)\n",
    "print(result)"
   ]
  },
  {
   "cell_type": "markdown",
   "metadata": {},
   "source": [
    "9. convert all text into lower case\n"
   ]
  },
  {
   "cell_type": "code",
   "execution_count": 19,
   "metadata": {},
   "outputs": [
    {
     "name": "stdout",
     "output_type": "stream",
     "text": [
      "a prison riot left of members of staff needing hospital on treatment earlier this month, report bbc\n"
     ]
    }
   ],
   "source": [
    "String=\"A PRISON riot left OF Members Of staff needing Hospital ON treatment earlier this month, report BBC\"\n",
    "\n",
    "result=String.lower()\n",
    "print(result)"
   ]
  }
 ],
 "metadata": {
  "kernelspec": {
   "display_name": "Python 3",
   "language": "python",
   "name": "python3"
  },
  "language_info": {
   "codemirror_mode": {
    "name": "ipython",
    "version": 3
   },
   "file_extension": ".py",
   "mimetype": "text/x-python",
   "name": "python",
   "nbconvert_exporter": "python",
   "pygments_lexer": "ipython3",
   "version": "3.6.5"
  }
 },
 "nbformat": 4,
 "nbformat_minor": 2
}
